{
 "cells": [
  {
   "cell_type": "code",
   "execution_count": 99,
   "id": "a85d98e7",
   "metadata": {},
   "outputs": [
    {
     "name": "stdout",
     "output_type": "stream",
     "text": [
      "Kiran;Patel;Data;Trained;;;;;Student;;\n"
     ]
    }
   ],
   "source": [
    "#Question 1- Write a Python program to replace all occurrences of a space, comma, or dot with a colon.\n",
    "import regex as re\n",
    "pat=\"[\\s\\d.\\d,]\"\n",
    "str1='Kiran Patel.Data Trained,    Student..'\n",
    "str2=re.sub(pat,';',str1)\n",
    "print(str2)\n"
   ]
  },
  {
   "cell_type": "code",
   "execution_count": 89,
   "id": "2966dbfa",
   "metadata": {},
   "outputs": [
    {
     "name": "stdout",
     "output_type": "stream",
     "text": [
      "['apple', 'elephant']\n"
     ]
    }
   ],
   "source": [
    "#Question 2-  Write a Python program to find all words starting with 'a' or 'e' in a given string.\n",
    "pat=r'\\b[ae]\\w+\\b'\n",
    "str1='I have word apple & elephant starting with a or e.'\n",
    "fnd=re.findall(pat,str1)\n",
    "print(fnd)\n"
   ]
  },
  {
   "cell_type": "code",
   "execution_count": 90,
   "id": "32814783",
   "metadata": {},
   "outputs": [
    {
     "name": "stdout",
     "output_type": "stream",
     "text": [
      "['This', 'is', 'to', 'test']\n",
      "['Four', 'four', 'five', 'Five']\n"
     ]
    }
   ],
   "source": [
    "#Question 3- Create a function in python to find all words that are at least 4 characters long in a string. \n",
    "#The use of the re.compile() method is mandatory.\n",
    "def find_four_letter_word(str1):\n",
    "    pat = r'\\b\\w{,4}+\\b'\n",
    "    pat_com = re.compile(pat)\n",
    "    fnd=pat_com.findall(str1)\n",
    "    fnd=list(filter(None,fnd))\n",
    "    return fnd\n",
    "\n",
    "res1=find_four_letter_word('This is to test above funtion.')\n",
    "print(res1)\n",
    "res2=find_four_letter_word('Four four twelve five Five')\n",
    "print(res2)\n"
   ]
  },
  {
   "cell_type": "code",
   "execution_count": 91,
   "id": "30baabe5",
   "metadata": {},
   "outputs": [
    {
     "name": "stdout",
     "output_type": "stream",
     "text": [
      "['Modi', 'our', 'Prime']\n",
      "['One', 'Two', 'Three']\n"
     ]
    }
   ],
   "source": [
    "#Question 4- Create a function in python to find all three, four, and five character words in a string. \n",
    "#The use of the re.compile() method is mandatory.\n",
    "def find_345_letter_word(str1):\n",
    "    pat = r'\\b\\w{3}+\\b|\\b\\w{4}+\\b|\\b\\w{5}+\\b'\n",
    "    pat_com = re.compile(pat)\n",
    "    fnd=pat_com.findall(str1)\n",
    "    fnd=list(filter(None,fnd))\n",
    "    return fnd\n",
    "\n",
    "res1=find_345_letter_word('Modi is our Prime Minister')\n",
    "print(res1)\n",
    "res2=find_345_letter_word('One Two Three Eleven Twelve Thirteen')\n",
    "print(res2)"
   ]
  },
  {
   "cell_type": "code",
   "execution_count": 98,
   "id": "4b62c8ad",
   "metadata": {},
   "outputs": [
    {
     "name": "stdout",
     "output_type": "stream",
     "text": [
      "hr@fliprobo .com\n",
      "example .com\n",
      "Hello Data Science World\n"
     ]
    }
   ],
   "source": [
    "#Question 5- Create a function in Python to remove the parenthesis in a list of strings. \n",
    "#The use of the re.compile() method is mandatory.\n",
    "def remove_parenthesis(str1):\n",
    "    pat = r'[()]'\n",
    "    pat_com = re.compile(pat)\n",
    "    fnd=pat_com.findall(str1)\n",
    "    new_str=str1\n",
    "    for i in fnd:\n",
    "        pat1='['+i+']'\n",
    "        new_str=re.sub(pat1,'',new_str)\n",
    "    return new_str    \n",
    "res1=remove_parenthesis(\"hr@fliprobo (.com)\")\n",
    "print(res1)\n",
    "res2=remove_parenthesis(\"example (.com)\")\n",
    "print(res2)\n",
    "res3=remove_parenthesis(\"Hello (Data Science World)\")\n",
    "print(res3)\n"
   ]
  },
  {
   "cell_type": "code",
   "execution_count": 155,
   "id": "3158f600",
   "metadata": {},
   "outputs": [
    {
     "name": "stdout",
     "output_type": "stream",
     "text": [
      "Original File =>[\"example (.com)\", \"hr@fliprobo (.com)\", \"github (.com)\", \"Hello (Data Science World)\", \"Data (Scientist)\"]\n",
      "Modified File =>[\"example \", \"hr@fliprobo \", \"github \", \"Hello \", \"Data \"]\n"
     ]
    }
   ],
   "source": [
    "#Question 6- Write a python program to remove the parenthesis area from the text stored in the text file \n",
    "#using Regular Expression.\n",
    "\n",
    "file_str=open('sample.txt').read()\n",
    "print('Original File =>'+ file_str)\n",
    "rem_paren=re.sub(r\"\\([^()]*\\)\",'',file_str)\n",
    "open('mod_sample.txt','w').write(rem_paren)\n",
    "mod_str=open('mod_sample.txt').read()\n",
    "print('Modified File =>'+ mod_str)\n"
   ]
  },
  {
   "cell_type": "code",
   "execution_count": 93,
   "id": "309e6b8f",
   "metadata": {},
   "outputs": [
    {
     "name": "stdout",
     "output_type": "stream",
     "text": [
      " Importance Of Regular Expressions In Python\n",
      "['Importance', 'Of', 'Regular', 'Expressions', 'In', 'Python']\n"
     ]
    }
   ],
   "source": [
    "#Question 7- Write a regular expression in Python to split a string into uppercase letters.\n",
    "str1='ImportanceOfRegularExpressionsInPython'\n",
    "str2=re.sub(r'(?=[A-Z])',' ',str1) #add space at the occurence of Capital Letter\n",
    "print(str2)\n",
    "sp_str=re.split('\\s',str2) #split at the occurence of space\n",
    "sp_str=list(filter(None,sp_str)) # Remove None Values from list\n",
    "print(sp_str)"
   ]
  },
  {
   "cell_type": "code",
   "execution_count": 168,
   "id": "d85da2bb",
   "metadata": {},
   "outputs": [
    {
     "name": "stdout",
     "output_type": "stream",
     "text": [
      "RegularExpression  1IsAn  2ImportantTopic  3InPython\n",
      "  1-One  2-Two  3-Three  4-Four  5-Five\n"
     ]
    }
   ],
   "source": [
    "#Question 8- Create a function in python to insert spaces between words starting with numbers.\n",
    "def add_space(str1):\n",
    "    new_str=re.sub(r'(?=[\\d])','  ',str1) #add space at the occurence of Capital Letter\n",
    "    return new_str\n",
    "\n",
    "res1=add_space('RegularExpression1IsAn2ImportantTopic3InPython')\n",
    "print(res1)\n",
    "res2=add_space('1-One2-Two3-Three4-Four5-Five')\n",
    "print(res2)\n"
   ]
  },
  {
   "cell_type": "code",
   "execution_count": 94,
   "id": "2eee96ca",
   "metadata": {},
   "outputs": [
    {
     "name": "stdout",
     "output_type": "stream",
     "text": [
      "  Regular  Expression  1  Is  An  2  Important  Topic  3  In  Python\n",
      "  1-  One  2-  Two  3-  Three  4-  Four  5-  Five\n"
     ]
    }
   ],
   "source": [
    "#Question 9- Create a function in python to insert spaces between words starting with capital letters or with numbers.\n",
    "def add_space1(str1):\n",
    "    new_str=re.sub(r'(?=[\\d])|(?=[A-Z])','  ',str1) #add space at the occurence of Capital Letter\n",
    "    return new_str\n",
    "\n",
    "res1=add_space1('RegularExpression1IsAn2ImportantTopic3InPython')\n",
    "print(res1)\n",
    "res2=add_space1('1-One2-Two3-Three4-Four5-Five')\n",
    "print(res2)\n"
   ]
  },
  {
   "cell_type": "code",
   "execution_count": 234,
   "id": "c17ae81b",
   "metadata": {},
   "outputs": [
    {
     "name": "stdout",
     "output_type": "stream",
     "text": [
      "Hello my name is Data Science and my email address is xyz@domain.com and alternate email address is xyz.abc@sdomain.domain.com. \n",
      "\n",
      "['xyz@domain.com', 'xyz.abc@sdomain.domain.com']\n",
      "-----------------------------------------------------------------------------------------------------------\n",
      "Please contact us at hr@fliprobo.com for further information. \n",
      "\n",
      "['hr@fliprobo.com']\n",
      "-----------------------------------------------------------------------------------------------------------\n"
     ]
    }
   ],
   "source": [
    "#Question 10- Write a python program to extract email address from the text stored in the text file using Regular Expression.\n",
    "file_str=open('sample1.txt','r')\n",
    "file_lines = file_str.readlines()\n",
    "\n",
    "for lin in file_lines:\n",
    "    print(lin)\n",
    "    email_address=re.findall(r\"[a-z0-9\\.]+@[a-z\\.]+\\.[a-z]+\",lin)\n",
    "    print(email_address)\n",
    "    print('-----------------------------------------------------------------------------------------------------------')\n"
   ]
  },
  {
   "cell_type": "code",
   "execution_count": 29,
   "id": "260437e0",
   "metadata": {},
   "outputs": [
    {
     "name": "stdout",
     "output_type": "stream",
     "text": [
      "Valid String\n",
      "Invalid String\n"
     ]
    }
   ],
   "source": [
    "#Question 11- Write a Python program to match a string that contains only upper and lowercase letters, numbers, and underscores.\n",
    "pat=\"^[A-Za-z\\d\\_]*$\"\n",
    "str1='Valid_Character_031223'\n",
    "out=re.search(pat,str1)\n",
    "if out != None:\n",
    "    print('Valid String')\n",
    "else:\n",
    "    print('Invalid String')\n",
    "\n",
    "str2='Valid_Character_@#1223'\n",
    "out=re.search(pat,str2)\n",
    "if out != None:\n",
    "    print('Valid String')\n",
    "else:\n",
    "    print('Invalid String')"
   ]
  },
  {
   "cell_type": "code",
   "execution_count": 46,
   "id": "f187fcc2",
   "metadata": {},
   "outputs": [
    {
     "name": "stdout",
     "output_type": "stream",
     "text": [
      "Starts With Number\n",
      "Does Not Starts With Number\n"
     ]
    }
   ],
   "source": [
    "#Question 12- Write a Python program where a string will start with a specific number.\n",
    "pat=\"^[\\d]\"\n",
    "str1=\"2 Starts with number\"\n",
    "out=re.search(pat,str1)\n",
    "if out != None:\n",
    "    print('Starts With Number')\n",
    "else:\n",
    "    print('Does Not Starts With Number')\n",
    "\n",
    "str2=\"Two Does Not Starts with number\"\n",
    "out=re.search(pat,str2)\n",
    "if out != None:\n",
    "    print('Starts With Number')\n",
    "else:\n",
    "    print('Does Not Starts With Number')"
   ]
  },
  {
   "cell_type": "code",
   "execution_count": 31,
   "id": "95ef9b2e",
   "metadata": {},
   "outputs": [
    {
     "name": "stdout",
     "output_type": "stream",
     "text": [
      "268.98.1.23\n"
     ]
    }
   ],
   "source": [
    "#Question 13- Write a Python program to remove leading zeros from an IP address\n",
    "ip_add='268.098.001.00023'\n",
    "#Starting With dot find all zeros and replace that with dot. E.g. .000 will get replace with .\n",
    "mod_ip = re.sub('\\.[0]*', '.', ip_add)\n",
    "print(mod_ip)"
   ]
  },
  {
   "cell_type": "code",
   "execution_count": 53,
   "id": "1d467370",
   "metadata": {},
   "outputs": [
    {
     "name": "stdout",
     "output_type": "stream",
     "text": [
      "On August 15th 1947 that India was declared independent from British colonialism.\n",
      "\n",
      "['August 15th 1947']\n",
      "================================================================================\n",
      "On August 2nd 1947 that India was declared independent from British colonialism.\n",
      "\n",
      "['August 2nd 1947']\n",
      "================================================================================\n",
      "On August 3rd 1947 that India was declared independent from British colonialism.\n",
      "\n",
      "['August 3rd 1947']\n",
      "================================================================================\n",
      "On August 1st 1947 that India was declared independent from British colonialism.\n",
      "\n",
      "['August 1st 1947']\n",
      "================================================================================\n",
      "On August 122st 1947 that India was declared independent from British colonialism.\n",
      "\n",
      "Invalid Date or Date Not Found\n",
      "================================================================================\n",
      "On August 1st 194723 that India was declared independent from British colonialism.\n",
      "\n",
      "Invalid Date or Date Not Found\n",
      "================================================================================\n"
     ]
    }
   ],
   "source": [
    "#Question 14- Write a regular expression in python to match a date string in the form of Month name \n",
    "#followed by day number and year stored in a text file.\n",
    "pat=r\"\\b([A-Z][a-z]+ \\d{1,2}(?:st|nd|rd|th)? \\d{4})\\b\"\n",
    "\n",
    "file_str=open('sample2.txt','r')\n",
    "file_lines = file_str.readlines()\n",
    "for x in file_lines:\n",
    "    print(x)\n",
    "    chk_date=re.findall(pat,x)\n",
    "    if (len(chk_date)) !=0:\n",
    "        print(chk_date)\n",
    "    else:\n",
    "        print('Invalid Date or Date Not Found')\n",
    "    print(\"================================================================================\")\n",
    "    \n"
   ]
  },
  {
   "cell_type": "code",
   "execution_count": 59,
   "id": "596f907c",
   "metadata": {},
   "outputs": [
    {
     "name": "stdout",
     "output_type": "stream",
     "text": [
      "fox==>Literal Found\n",
      "horse==>Literal Found\n",
      "dog==>Literal Found\n"
     ]
    }
   ],
   "source": [
    "#Question 15- Write a Python program to search some literals strings in a string.\n",
    "str1='The quick brown fox and horse jumps over the lazy dog .'\n",
    "sp=str1.split()\n",
    "for x in sp:\n",
    "    if x in ('fox','dog','horse'):\n",
    "        print(x+'==>Literal Found')"
   ]
  },
  {
   "cell_type": "code",
   "execution_count": 106,
   "id": "1ce38369",
   "metadata": {},
   "outputs": [
    {
     "name": "stdout",
     "output_type": "stream",
     "text": [
      "fox  ==>Literal Found at.position..4\n",
      "horse  ==>Literal Found at.position..6\n",
      "dog  ==>Literal Found at.position..11\n"
     ]
    }
   ],
   "source": [
    "#Question 16- Write a Python program to search a literals string in a string \n",
    "#and also find the location within the original string where the pattern occurs\n",
    "str1='The quick brown fox and horse jumps over the lazy dog .'\n",
    "sp=str1.split()\n",
    "for x in sp:\n",
    "    if x in ('fox','dog','horse'):\n",
    "        idx=str1.split().index(x)+1\n",
    "        print(x+'  ==>Literal Found'+' at.position..'+str(idx))\n"
   ]
  },
  {
   "cell_type": "code",
   "execution_count": 161,
   "id": "4646a664",
   "metadata": {},
   "outputs": [
    {
     "name": "stdout",
     "output_type": "stream",
     "text": [
      "exercises,\n"
     ]
    }
   ],
   "source": [
    "#Question 17- Write a Python program to find the substrings within a string\n",
    "test_str='Python exercises, PHP exercises, C# exercises,'\n",
    "sp=test_str.split()\n",
    "count_of_word=dict()\n",
    "for x in sp:\n",
    "    if x in count_of_word:\n",
    "        count_of_word[x] += 1\n",
    "    else:\n",
    "        count_of_word[x] = 1\n",
    "max_occurence= max(count_of_word.values())\n",
    "for subject in count_of_word.items():\n",
    "    if subject[1]==max_occurence:\n",
    "        print((subject[0]))"
   ]
  },
  {
   "cell_type": "code",
   "execution_count": 228,
   "id": "3672c31f",
   "metadata": {},
   "outputs": [
    {
     "name": "stdout",
     "output_type": "stream",
     "text": [
      "['Python', 1, 0]\n",
      "['exercises,', 3, 7]\n",
      "['exercises,', 3, 7, 22]\n",
      "['exercises,', 3, 7, 22, 36]\n",
      "['PHP', 1, 18]\n",
      "['C#', 1, 33]\n"
     ]
    }
   ],
   "source": [
    "#Question 18- Write a Python program to find the occurrence and position of the substrings within a string.\n",
    "test_str='Python exercises, PHP exercises, C# exercises,'\n",
    "sp=test_str.split()\n",
    "count_of_word=dict()\n",
    "output_list = []\n",
    "for x in sp:\n",
    "    if x in count_of_word:\n",
    "        count_of_word[x] += 1\n",
    "    else:\n",
    "        count_of_word[x] = 1\n",
    "#max_occurence= max(count_of_word.values())\n",
    "for subject in count_of_word.items():\n",
    "    #if subject[1]==max_occurence:\n",
    "    output_list=list(subject)\n",
    "    for fnd in re.finditer(subject[0],test_str):\n",
    "        fndpos=fnd.start()\n",
    "        output_list.append(fndpos)\n",
    "        print(output_list) #Output is in format String,Occurence,Positions        "
   ]
  },
  {
   "cell_type": "code",
   "execution_count": 229,
   "id": "b169d155",
   "metadata": {},
   "outputs": [
    {
     "name": "stdout",
     "output_type": "stream",
     "text": [
      "01-01-2023\n"
     ]
    }
   ],
   "source": [
    "#Question 19- Write a Python program to convert a date of yyyy-mm-dd format to dd-mm-yyyy format.\n",
    "dt='2023-01-01'\n",
    "rev_dt=re.sub(r'(\\d{4})-(\\d{1,2})-(\\d{1,2})', '\\\\3-\\\\2-\\\\1', dt)\n",
    "print(rev_dt)"
   ]
  },
  {
   "cell_type": "code",
   "execution_count": 274,
   "id": "c3df365e",
   "metadata": {},
   "outputs": [
    {
     "name": "stdout",
     "output_type": "stream",
     "text": [
      "['01.12 ', '145.8 ', '3.01 ', '27.25 ', '0.25 ']\n"
     ]
    }
   ],
   "source": [
    "#Question 20- Create a function in python to find all decimal numbers with a precision of 1 or 2 in a string. \n",
    "#The use of the re.compile() method is mandatory.\n",
    "\n",
    "def find_number(text):\n",
    "    pat=r'[\\d]+\\.\\d{1,2}\\s'\n",
    "    regex_obj = re.compile(pat)\n",
    "    nums=regex_obj.findall(text)\n",
    "    return nums\n",
    "    \n",
    "txt=\"01.12 0132.123 2.31875 145.8 3.01 27.25 0.25 \"\n",
    "output =find_number(txt)\n",
    "print(output)"
   ]
  },
  {
   "cell_type": "code",
   "execution_count": 22,
   "id": "eee69836",
   "metadata": {},
   "outputs": [
    {
     "name": "stdout",
     "output_type": "stream",
     "text": [
      "Number= 01.12 Position= 0\n",
      "Number= 0132.123 Position= 6\n",
      "Number= 2.31875 Position= 15\n",
      "Number= 145.8 Position= 23\n",
      "Number= 3.01 Position= 29\n",
      "Number= 27.25 Position= 34\n",
      "Number= 0.25 Position= 40\n"
     ]
    }
   ],
   "source": [
    "# Question 21- Write a Python program to separate and print the numbers and their position of a given string.\n",
    "txt=\"01.12 0132.123 2.31875 145.8 3.01 27.25 0.25 \"\n",
    "pat=r'[\\d]+\\.\\d+\\s'\n",
    "nums=re.finditer(pat,txt)\n",
    "for pos in nums:\n",
    "    n_pos=pos.start()\n",
    "    m1=pos.group(0)\n",
    "    m2=n_pos\n",
    "    print('Number= '+str(m1)+'Position= '+str(m2))"
   ]
  },
  {
   "cell_type": "code",
   "execution_count": 54,
   "id": "6282a72d",
   "metadata": {},
   "outputs": [
    {
     "name": "stdout",
     "output_type": "stream",
     "text": [
      "950\n"
     ]
    }
   ],
   "source": [
    "#Question 22- Write a regular expression in python program to extract maximum/largest numeric value from a string.\n",
    "text='My marks in each semester are: 947, 896, 926, 524, 734, 950, 642'\n",
    "pat=r\"([0-9]{1,3})\"\n",
    "r_pat=re.finditer(pat,text)\n",
    "l =[]\n",
    "for n in r_pat:\n",
    "    l.append(int(n.group(0)))\n",
    "             \n",
    "print(max(l))"
   ]
  },
  {
   "cell_type": "code",
   "execution_count": 79,
   "id": "fee8e4c0",
   "metadata": {},
   "outputs": [
    {
     "name": "stdout",
     "output_type": "stream",
     "text": [
      "['Regular', 'Expression', 'Is', 'An', 'Important', 'Topic', 'In', 'Python']\n",
      "Regular Expression Is An Important Topic In Python\n",
      "=========================================================\n",
      "['Data', 'Trained', 'Institute', 'Of', 'Data', 'Science']\n",
      "Data Trained Institute Of Data Science\n"
     ]
    }
   ],
   "source": [
    "#Question 23- Create a function in python to insert spaces between words starting with capital letters.\n",
    "\n",
    "def ins_space(sample_text):\n",
    "    words_in_string=re.findall('[A-Z][a-z]*',sample_text)\n",
    "    return words_in_string\n",
    "\n",
    "pro_wrd=ins_space('RegularExpressionIsAnImportantTopicInPython')\n",
    "print(pro_wrd)\n",
    "add_spc=(' '.join(pro_wrd))\n",
    "print(add_spc)\n",
    "print('=========================================================')\n",
    "pro_wrd=ins_space('DataTrainedInstituteOfDataScience')\n",
    "print(pro_wrd)\n",
    "add_spc=(' '.join(pro_wrd))\n",
    "print(add_spc)\n"
   ]
  },
  {
   "cell_type": "code",
   "execution_count": 95,
   "id": "4726d5a8",
   "metadata": {},
   "outputs": [
    {
     "name": "stdout",
     "output_type": "stream",
     "text": [
      "0 => Regular\n",
      "7 => Expression\n",
      "17 => Is\n",
      "19 => An\n",
      "21 => Important\n",
      "30 => Topic\n",
      "35 => In\n",
      "37 => Python\n"
     ]
    }
   ],
   "source": [
    "#Question 24- Python regex to find sequences of one upper case letter followed by lower case letters\n",
    "txt=\"RegularExpressionIsAnImportantTopicInPython\"\n",
    "pat='[A-Z][a-z]*'\n",
    "strs=re.finditer(pat,txt)\n",
    "for s in strs:\n",
    "    s_pos=s.start()\n",
    "    print(str(s_pos)+' => '+s.group(0))"
   ]
  },
  {
   "cell_type": "code",
   "execution_count": 113,
   "id": "5b14db95",
   "metadata": {},
   "outputs": [
    {
     "name": "stdout",
     "output_type": "stream",
     "text": [
      "Hello hello world \n",
      "===========================================================\n",
      "@# I need to remove duplicates @#  \n"
     ]
    }
   ],
   "source": [
    "#Question 25- Write a Python program to remove continuous duplicate words from Sentence using Regular Expression.\n",
    "sam_txt='Hello hello world world '\n",
    "pat=r'\\b(\\w+)(\\s+\\1\\b)+'\n",
    "output = re.sub(pat, r'\\1',sam_txt)\n",
    "print(output)\n",
    "\n",
    "print('===========================================================')\n",
    "sam_txt='@# I I need need to to remove remove duplicates duplicates @#  '\n",
    "output = re.sub(pat, r'\\1',sam_txt)\n",
    "print(output)\n"
   ]
  },
  {
   "cell_type": "code",
   "execution_count": 131,
   "id": "b0d2dc04",
   "metadata": {},
   "outputs": [
    {
     "name": "stdout",
     "output_type": "stream",
     "text": [
      "Enter Your String  = Invalid ?\n",
      "Invalid ?\n",
      "Invalid Input\n"
     ]
    }
   ],
   "source": [
    "# Question 26-  Write a python program using RegEx to accept string ending with alphanumeric character.\n",
    "entered_str=input('Enter Your String  = ')\n",
    "print(entered_str)\n",
    "pat=r\"\\w$\"\n",
    "sd=re.search(pat,entered_str)\n",
    "if sd:\n",
    "    print('Valid Input')\n",
    "else:\n",
    "    print('Invalid Input')"
   ]
  },
  {
   "cell_type": "code",
   "execution_count": 151,
   "id": "3c042e95",
   "metadata": {},
   "outputs": [
    {
     "name": "stdout",
     "output_type": "stream",
     "text": [
      "['#Doltiwal', '#xyzabc', '#Demonetization']\n"
     ]
    }
   ],
   "source": [
    "#Question 27-Write a python program using RegEx to extract the hashtags.\n",
    "sam_txt=\"\"\"RT @kapil_kausik: #Doltiwal I mean #xyzabc is \"hurt\" by #Demonetization as the same has rendered USELESS <ed><U+00A0><U+00BD><ed><U+00B1><U+0089> \"acquired funds\" No wo\"\"\"\n",
    "pat=r'#\\S+'\n",
    "op=re.findall(pat,sam_txt)\n",
    "print(op)\n"
   ]
  },
  {
   "cell_type": "code",
   "execution_count": 154,
   "id": "96542abd",
   "metadata": {},
   "outputs": [
    {
     "name": "stdout",
     "output_type": "stream",
     "text": [
      "['<U+00A0>', '<U+00BD>', '<U+00B8>', '<U+0082>']\n",
      "@Jags123456 Bharat band on 28??<ed><ed>Those who  are protesting #demonetization  are all different party leaders\n"
     ]
    }
   ],
   "source": [
    "#Question 28- Write a python program using RegEx to remove <U+..> like symbols\n",
    "sam_txt=\"@Jags123456 Bharat band on 28??<ed><U+00A0><U+00BD><ed><U+00B8><U+0082>Those who  are protesting #demonetization  are all different party leaders\"\n",
    "pat=r'\\<U\\+\\w{4}>'\n",
    "op=re.findall(pat,sam_txt)\n",
    "print(op)\n",
    "rep=re.sub(pat,'',sam_txt)\n",
    "print(rep)"
   ]
  },
  {
   "cell_type": "code",
   "execution_count": 164,
   "id": "a83ac914",
   "metadata": {},
   "outputs": [
    {
     "name": "stdout",
     "output_type": "stream",
     "text": [
      "Ron was born on 12-09-1992 and he was admitted to school 15-12-1999.\n",
      "Ron was born on 12-SEP-1992 and he was admitted to school 15-SEP-1999.\n",
      "\n",
      "['12-09-1992', '15-12-1999', '12-SEP-1992', '15-SEP-1999']\n"
     ]
    }
   ],
   "source": [
    "#Question 29- Write a python program to extract dates from the text stored in the text file.\n",
    "file_str=open('sample3.txt').read()\n",
    "print(file_str)\n",
    "pat=r'\\d{2}\\-\\d{2}\\-\\d{4}|\\d{2}\\-\\w{3}\\-\\d{4}'\n",
    "dts=re.findall(pat,file_str)\n",
    "print(dts)"
   ]
  },
  {
   "cell_type": "code",
   "execution_count": 187,
   "id": "c685f9aa",
   "metadata": {},
   "outputs": [
    {
     "name": "stdout",
     "output_type": "stream",
     "text": [
      " following example creates ArrayList a capacity elements. 4 elements added ArrayList ArrayList trimmed accordingly.\n"
     ]
    }
   ],
   "source": [
    "#Question 30- Create a function in python to remove all words from a string of length between 2 and 4.\n",
    "def trim_str1(txt11):\n",
    "    pat=r'\\W*\\b\\w{2,4}\\b'\n",
    "    reg_pat=re.compile(pat)\n",
    "    modstr=reg_pat.sub('',txt11)\n",
    "    return modstr\n",
    "\n",
    "t=\"The following example creates an ArrayList with a capacity of 50 elements. 4 elements are then added to the ArrayList and the ArrayList is trimmed accordingly.\"\n",
    "output1=trim_str1(t)\n",
    "print(output1)"
   ]
  },
  {
   "cell_type": "code",
   "execution_count": null,
   "id": "69a086a1",
   "metadata": {},
   "outputs": [],
   "source": []
  }
 ],
 "metadata": {
  "kernelspec": {
   "display_name": "Python 3 (ipykernel)",
   "language": "python",
   "name": "python3"
  },
  "language_info": {
   "codemirror_mode": {
    "name": "ipython",
    "version": 3
   },
   "file_extension": ".py",
   "mimetype": "text/x-python",
   "name": "python",
   "nbconvert_exporter": "python",
   "pygments_lexer": "ipython3",
   "version": "3.10.9"
  }
 },
 "nbformat": 4,
 "nbformat_minor": 5
}

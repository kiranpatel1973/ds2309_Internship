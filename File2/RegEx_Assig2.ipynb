{
 "cells": [
  {
   "cell_type": "code",
   "execution_count": 52,
   "id": "3354fb9a",
   "metadata": {},
   "outputs": [],
   "source": [
    "'''Question 1- Write a RegEx pattern in python program to check that a string contains only a \n",
    "               certain set of characters (in this case a-z, A-Z and 0-9)'''\n",
    "\n",
    "import regex as re\n",
    "\n",
    "def chkstr(str):\n",
    "    x=re.findall(\"[^A-Za-z0-9]\",str)\n",
    "    if x==None:\n",
    "       res='VALID STRING'\n",
    "    else:\n",
    "       res='INVALID STRING'\n",
    "    return res\n"
   ]
  },
  {
   "cell_type": "code",
   "execution_count": 53,
   "id": "9361ba05",
   "metadata": {},
   "outputs": [
    {
     "data": {
      "text/plain": [
       "'INVALID STRING'"
      ]
     },
     "execution_count": 53,
     "metadata": {},
     "output_type": "execute_result"
    }
   ],
   "source": [
    "chkstr('IamValid2023')"
   ]
  },
  {
   "cell_type": "code",
   "execution_count": 54,
   "id": "97fdf2ca",
   "metadata": {},
   "outputs": [
    {
     "data": {
      "text/plain": [
       "'INVALID STRING'"
      ]
     },
     "execution_count": 54,
     "metadata": {},
     "output_type": "execute_result"
    }
   ],
   "source": [
    "chkstr('IamValid$2023')"
   ]
  },
  {
   "cell_type": "code",
   "execution_count": 91,
   "id": "651fe492",
   "metadata": {},
   "outputs": [
    {
     "name": "stdout",
     "output_type": "stream",
     "text": [
      "Found a match!\n",
      "Found a match!\n",
      "Found a match!\n"
     ]
    }
   ],
   "source": [
    "#Question 2- Write a RegEx pattern that matches a string that has an a followed by zero or more b's\n",
    "def text_match(text):\n",
    "        patterns = '\\wb*?'\n",
    "        if re.search(patterns,  text):\n",
    "                return 'Found a match!'\n",
    "        else:\n",
    "                return('Not matched!')\n",
    "\n",
    "print(text_match(\"eewc\"))\n",
    "print(text_match(\"eewbc\"))\n",
    "print(text_match(\"eewbbc\"))\n"
   ]
  },
  {
   "cell_type": "code",
   "execution_count": 92,
   "id": "9c065975",
   "metadata": {},
   "outputs": [
    {
     "name": "stdout",
     "output_type": "stream",
     "text": [
      "Not matched!\n",
      "Found a match!\n",
      "Found a match!\n"
     ]
    }
   ],
   "source": [
    "#Question 3- Write a RegEx pattern that matches a string that has an a followed by one or more b's\n",
    "def text_match(text):\n",
    "        patterns = '\\wb+?'\n",
    "        if re.search(patterns,  text):\n",
    "                return 'Found a match!'\n",
    "        else:\n",
    "                return('Not matched!')\n",
    "\n",
    "print(text_match(\"eewc\"))\n",
    "print(text_match(\"eewbc\"))\n",
    "print(text_match(\"eewbbc\"))"
   ]
  },
  {
   "cell_type": "code",
   "execution_count": 93,
   "id": "22c97384",
   "metadata": {},
   "outputs": [
    {
     "name": "stdout",
     "output_type": "stream",
     "text": [
      "Found a match!\n",
      "Found a match!\n",
      "Found a match!\n"
     ]
    }
   ],
   "source": [
    "#Question 4- Write a RegEx pattern that matches a string that has an a followed by zero or one 'b'.\n",
    "def text_match(text):\n",
    "        patterns = '\\wb?'\n",
    "        if re.search(patterns,  text):\n",
    "                return 'Found a match!'\n",
    "        else:\n",
    "                return('Not matched!')\n",
    "\n",
    "print(text_match(\"eewc\"))\n",
    "print(text_match(\"eewbc\"))\n",
    "print(text_match(\"eewbbc\"))"
   ]
  },
  {
   "cell_type": "code",
   "execution_count": 96,
   "id": "59024db0",
   "metadata": {},
   "outputs": [
    {
     "name": "stdout",
     "output_type": "stream",
     "text": [
      "Not matched!\n",
      "Not matched!\n",
      "Not matched!\n",
      "Found a match!\n",
      "Found a match!\n",
      "Not matched!\n",
      "Found a match!\n"
     ]
    }
   ],
   "source": [
    "#Question 5- Write a RegEx pattern in python program that matches a string that has an a followed by three 'b'.\n",
    "def text_match(text):\n",
    "        patterns = '\\wb{3}'\n",
    "        if re.search(patterns,  text):\n",
    "                return 'Found a match!'\n",
    "        else:\n",
    "                return('Not matched!')\n",
    "\n",
    "print(text_match(\"eewc\"))\n",
    "print(text_match(\"eewbc\"))\n",
    "print(text_match(\"eewbbc\"))\n",
    "print(text_match(\"eewbbbc\"))\n",
    "print(text_match(\"eewbbcbbb\"))\n",
    "print(text_match(\"bbbeewbbcbb\")) \n",
    "print(text_match(\"sbbbeewbbcbb\")) "
   ]
  },
  {
   "cell_type": "code",
   "execution_count": 101,
   "id": "8b9e9887",
   "metadata": {},
   "outputs": [
    {
     "name": "stdout",
     "output_type": "stream",
     "text": [
      "Not matched!\n",
      "Not matched!\n",
      "Found a match!\n",
      "Found a match!\n",
      "Found a match!\n",
      "Found a match!\n",
      "Not matched!\n"
     ]
    }
   ],
   "source": [
    "#Question 6- Write a RegEx pattern in python program that matches a string that has an a followed by two to three 'b'.\n",
    "def text_match(text):\n",
    "        patterns = '\\wb{2,3}?'\n",
    "        if re.search(patterns,  text):\n",
    "                return 'Found a match!'\n",
    "        else:\n",
    "                return('Not matched!')\n",
    "\n",
    "print(text_match(\"eewc\"))\n",
    "print(text_match(\"eewbc\"))\n",
    "print(text_match(\"eewbbc\"))\n",
    "print(text_match(\"eewbbcbbb\"))\n",
    "print(text_match(\"cbb\")) \n",
    "print(text_match(\"sbeewbcb\")) "
   ]
  },
  {
   "cell_type": "code",
   "execution_count": 109,
   "id": "835e1234",
   "metadata": {},
   "outputs": [
    {
     "name": "stdout",
     "output_type": "stream",
     "text": [
      "Not matched!\n",
      "Found a match!\n",
      "Not matched!\n",
      "Found a match!\n",
      "Not matched!\n"
     ]
    }
   ],
   "source": [
    "#Question 7- Write a Python program that matches a string that has an 'a' followed by anything, ending in 'b'.\n",
    "def text_match(text):\n",
    "        patterns = 'a.*?b$'\n",
    "        if re.search(patterns,  text):\n",
    "                return 'Found a match!'\n",
    "        else:\n",
    "                return('Not matched!')\n",
    "\n",
    "print(text_match(\"aewc\"))\n",
    "print(text_match(\"aewcb\"))\n",
    "print(text_match(\"aebwc\"))\n",
    "print(text_match(\"aebwcb\"))\n",
    "print(text_match(\"eebwcb\"))\n"
   ]
  },
  {
   "cell_type": "code",
   "execution_count": 116,
   "id": "44245922",
   "metadata": {},
   "outputs": [
    {
     "name": "stdout",
     "output_type": "stream",
     "text": [
      "Found a match!\n",
      "Not matched!\n",
      "Not matched!\n",
      "Found a match!\n",
      "Not matched!\n",
      "Found a match!\n"
     ]
    }
   ],
   "source": [
    "#Question 8- Write a RegEx pattern in python program that matches a word at the beginning of a string.\n",
    "def text_match(text):\n",
    "        patterns = '^\\w+'\n",
    "        if re.search(patterns,  text):\n",
    "                return 'Found a match!'\n",
    "        else:\n",
    "                return('Not matched!')\n",
    "\n",
    "print(text_match(\"Word is present at the beginig.\"))\n",
    "print(text_match(\"  Space ispresent at the begining\"))\n",
    "print(text_match(\"@  Special Character is present at the begining\"))\n",
    "print(text_match(\"1  Number is present at the begining\"))\n",
    "print(text_match(\".  Dot is present at the begining\"))\n",
    "print(text_match(\"_  Under Score  is present at the begining\"))"
   ]
  },
  {
   "cell_type": "code",
   "execution_count": 123,
   "id": "f5bc9eea",
   "metadata": {},
   "outputs": [
    {
     "name": "stdout",
     "output_type": "stream",
     "text": [
      "Found a match!\n",
      "Not matched!\n",
      "Not matched!\n",
      "Found a match!\n",
      "Not matched!\n",
      "Found a match!\n"
     ]
    }
   ],
   "source": [
    "#Question 9- Write a RegEx pattern in python program that matches a word at the end of a string.\n",
    "def text_match(text):\n",
    "        patterns = '\\w\\S*$'\n",
    "        if re.search(patterns,  text):\n",
    "                return 'Found a match!'\n",
    "        else:\n",
    "                return('Not matched!')\n",
    "\n",
    "print(text_match(\"Word is present at the end\"))\n",
    "print(text_match(\"Space ispresent at the end  \"))\n",
    "print(text_match(\"Special Character is present at the end @\"))\n",
    "print(text_match(\"Number is present at the end 1\"))\n",
    "print(text_match(\"Dot is present at the end .\"))\n",
    "print(text_match(\"Under Score  is present at the end _\"))"
   ]
  },
  {
   "cell_type": "code",
   "execution_count": 131,
   "id": "c2345b20",
   "metadata": {},
   "outputs": [
    {
     "name": "stdout",
     "output_type": "stream",
     "text": [
      "['Dear']\n",
      "['0132', '1458', '2725']\n"
     ]
    }
   ],
   "source": [
    "\"\"\"Question 10- Write a RegEx pattern in python program to find all words that are 4 digits long in a string.\n",
    "Sample text- '01 0132 231875 1458 301 2725.'\n",
    "Expected output- ['0132', '1458', '2725']\"\"\"\n",
    "\n",
    "def text_match(text):\n",
    "        patterns = r\"\\b\\w{4}\\b\"\n",
    "        l=re.findall(patterns,text)\n",
    "        \n",
    "        return l\n",
    "print(text_match('Hello Dear Friend'))\n",
    "print(text_match('01 0132 231875 1458 301 2725'))"
   ]
  },
  {
   "cell_type": "code",
   "execution_count": null,
   "id": "29a248fd",
   "metadata": {},
   "outputs": [],
   "source": [
    "## Thanks"
   ]
  }
 ],
 "metadata": {
  "kernelspec": {
   "display_name": "Python 3 (ipykernel)",
   "language": "python",
   "name": "python3"
  },
  "language_info": {
   "codemirror_mode": {
    "name": "ipython",
    "version": 3
   },
   "file_extension": ".py",
   "mimetype": "text/x-python",
   "name": "python",
   "nbconvert_exporter": "python",
   "pygments_lexer": "ipython3",
   "version": "3.10.9"
  }
 },
 "nbformat": 4,
 "nbformat_minor": 5
}
